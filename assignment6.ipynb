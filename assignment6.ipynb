{
 "cells": [
  {
   "cell_type": "markdown",
   "id": "df0d234f-1e1a-4495-8208-e177e7f527aa",
   "metadata": {},
   "source": [
    "Complete the exercises below For **Assignment #6**."
   ]
  },
  {
   "cell_type": "markdown",
   "id": "87391e24-01b9-48c0-b7c5-e7793174c708",
   "metadata": {},
   "source": [
    "Import the following items,\n",
    "- `pandas as pd`,\n",
    "- `LinearRegression` from the [`sklearn.linear_model`](https://scikit-learn.org/stable/modules/classes.html#module-sklearn.linear_model) module,\n",
    "- `make_column_transformer` from [`sklearn.compose`](https://scikit-learn.org/stable/modules/classes.html#module-sklearn.compose),\n",
    "- `OneHotEncoder` from [`sklearn.preprocessing`](https://scikit-learn.org/stable/modules/classes.html#module-sklearn.preprocessing),\n",
    "- `make_pipeline` from the [`sklearn.pipeline`](https://scikit-learn.org/stable/modules/classes.html#module-sklearn.pipeline) module, and,\n",
    "- everything from the [plotnine]() package."
   ]
  },
  {
   "cell_type": "code",
   "execution_count": 1,
   "id": "ac574257-9c82-4ec3-80ce-35ed2770895d",
   "metadata": {
    "tags": []
   },
   "outputs": [
    {
     "name": "stdout",
     "output_type": "stream",
     "text": [
      "Requirement already satisfied: plotnine in /home/studio-lab-user/.conda/envs/data730/lib/python3.12/site-packages (0.13.0)\n",
      "Requirement already satisfied: matplotlib>=3.6.0 in /home/studio-lab-user/.conda/envs/data730/lib/python3.12/site-packages (from plotnine) (3.8.3)\n",
      "Requirement already satisfied: pandas>=2.1.0 in /home/studio-lab-user/.conda/envs/data730/lib/python3.12/site-packages (from plotnine) (2.2.0)\n",
      "Requirement already satisfied: mizani==0.11.0 in /home/studio-lab-user/.conda/envs/data730/lib/python3.12/site-packages (from plotnine) (0.11.0)\n",
      "Requirement already satisfied: numpy>=1.23.0 in /home/studio-lab-user/.conda/envs/data730/lib/python3.12/site-packages (from plotnine) (1.26.4)\n",
      "Requirement already satisfied: scipy>=1.7.0 in /home/studio-lab-user/.conda/envs/data730/lib/python3.12/site-packages (from plotnine) (1.12.0)\n",
      "Requirement already satisfied: statsmodels>=0.14.0 in /home/studio-lab-user/.conda/envs/data730/lib/python3.12/site-packages (from plotnine) (0.14.1)\n",
      "Requirement already satisfied: contourpy>=1.0.1 in /home/studio-lab-user/.conda/envs/data730/lib/python3.12/site-packages (from matplotlib>=3.6.0->plotnine) (1.2.0)\n",
      "Requirement already satisfied: cycler>=0.10 in /home/studio-lab-user/.conda/envs/data730/lib/python3.12/site-packages (from matplotlib>=3.6.0->plotnine) (0.12.1)\n",
      "Requirement already satisfied: fonttools>=4.22.0 in /home/studio-lab-user/.conda/envs/data730/lib/python3.12/site-packages (from matplotlib>=3.6.0->plotnine) (4.49.0)\n",
      "Requirement already satisfied: kiwisolver>=1.3.1 in /home/studio-lab-user/.conda/envs/data730/lib/python3.12/site-packages (from matplotlib>=3.6.0->plotnine) (1.4.5)\n",
      "Requirement already satisfied: packaging>=20.0 in /home/studio-lab-user/.conda/envs/data730/lib/python3.12/site-packages (from matplotlib>=3.6.0->plotnine) (23.2)\n",
      "Requirement already satisfied: pillow>=8 in /home/studio-lab-user/.conda/envs/data730/lib/python3.12/site-packages (from matplotlib>=3.6.0->plotnine) (10.2.0)\n",
      "Requirement already satisfied: pyparsing>=2.3.1 in /home/studio-lab-user/.conda/envs/data730/lib/python3.12/site-packages (from matplotlib>=3.6.0->plotnine) (3.1.1)\n",
      "Requirement already satisfied: python-dateutil>=2.7 in /home/studio-lab-user/.conda/envs/data730/lib/python3.12/site-packages (from matplotlib>=3.6.0->plotnine) (2.8.2)\n",
      "Requirement already satisfied: pytz>=2020.1 in /home/studio-lab-user/.conda/envs/data730/lib/python3.12/site-packages (from pandas>=2.1.0->plotnine) (2024.1)\n",
      "Requirement already satisfied: tzdata>=2022.7 in /home/studio-lab-user/.conda/envs/data730/lib/python3.12/site-packages (from pandas>=2.1.0->plotnine) (2024.1)\n",
      "Requirement already satisfied: patsy>=0.5.4 in /home/studio-lab-user/.conda/envs/data730/lib/python3.12/site-packages (from statsmodels>=0.14.0->plotnine) (0.5.6)\n",
      "Requirement already satisfied: six in /home/studio-lab-user/.conda/envs/data730/lib/python3.12/site-packages (from patsy>=0.5.4->statsmodels>=0.14.0->plotnine) (1.16.0)\n",
      "Note: you may need to restart the kernel to use updated packages.\n"
     ]
    }
   ],
   "source": [
    "pip install plotnine"
   ]
  },
  {
   "cell_type": "code",
   "execution_count": 3,
   "id": "ffe7ecbc-415c-4986-b8a7-10e9aeafd61b",
   "metadata": {},
   "outputs": [],
   "source": [
    "\n",
    "import pandas as pd\n",
    "from sklearn.linear_model import LinearRegression\n",
    "from sklearn.compose import make_column_transformer\n",
    "from sklearn.preprocessing import OneHotEncoder\n",
    "from sklearn.pipeline import make_pipeline"
   ]
  },
  {
   "cell_type": "markdown",
   "id": "a8c917ce-495f-4026-9187-d4888a34326f",
   "metadata": {},
   "source": [
    "## Read in our data for this exercise"
   ]
  },
  {
   "cell_type": "markdown",
   "id": "5d0d08a5-7074-45a3-9b00-fa7f59956438",
   "metadata": {},
   "source": [
    "Use `pd.read_csv` to read in data from the following URL: http://bit.ly/2IgDF0E. Capture the data into a dataframe called `df_voles`.\n",
    "\n",
    "❗️Hint: just like in `R` we can read data directly from a URL."
   ]
  },
  {
   "cell_type": "code",
   "execution_count": 4,
   "id": "d1d4055a-3dac-48bc-a6ec-9879994b5f9b",
   "metadata": {},
   "outputs": [],
   "source": [
    "df_voles = pd.read_csv('http://bit.ly/2IgDF0E')\n"
   ]
  },
  {
   "cell_type": "markdown",
   "id": "e00b9c9f-5a15-418a-89e6-8e14439b0c7e",
   "metadata": {},
   "source": [
    "Preview the data with the `.head()` method.\n",
    "\n",
    "The data contains the variables:\n",
    "\n",
    "- `site` for the id of each random study site (each case or row is a survey/trapping site)\n",
    "- `voles` for the vole count at each site\n",
    "- `veg` for the percent cover of vegetation at each site\n",
    "- `soil` identifying a site as “moist” or “dry”"
   ]
  },
  {
   "cell_type": "code",
   "execution_count": 5,
   "id": "0d254d36-6385-4de1-b9bb-ee5a0f935ede",
   "metadata": {},
   "outputs": [
    {
     "data": {
      "text/html": [
       "<div>\n",
       "<style scoped>\n",
       "    .dataframe tbody tr th:only-of-type {\n",
       "        vertical-align: middle;\n",
       "    }\n",
       "\n",
       "    .dataframe tbody tr th {\n",
       "        vertical-align: top;\n",
       "    }\n",
       "\n",
       "    .dataframe thead th {\n",
       "        text-align: right;\n",
       "    }\n",
       "</style>\n",
       "<table border=\"1\" class=\"dataframe\">\n",
       "  <thead>\n",
       "    <tr style=\"text-align: right;\">\n",
       "      <th></th>\n",
       "      <th>site</th>\n",
       "      <th>voles</th>\n",
       "      <th>veg</th>\n",
       "      <th>soil</th>\n",
       "    </tr>\n",
       "  </thead>\n",
       "  <tbody>\n",
       "    <tr>\n",
       "      <th>0</th>\n",
       "      <td>1</td>\n",
       "      <td>17</td>\n",
       "      <td>4</td>\n",
       "      <td>moist</td>\n",
       "    </tr>\n",
       "    <tr>\n",
       "      <th>1</th>\n",
       "      <td>2</td>\n",
       "      <td>30</td>\n",
       "      <td>33</td>\n",
       "      <td>moist</td>\n",
       "    </tr>\n",
       "    <tr>\n",
       "      <th>2</th>\n",
       "      <td>3</td>\n",
       "      <td>54</td>\n",
       "      <td>94</td>\n",
       "      <td>moist</td>\n",
       "    </tr>\n",
       "    <tr>\n",
       "      <th>3</th>\n",
       "      <td>4</td>\n",
       "      <td>49</td>\n",
       "      <td>64</td>\n",
       "      <td>moist</td>\n",
       "    </tr>\n",
       "    <tr>\n",
       "      <th>4</th>\n",
       "      <td>5</td>\n",
       "      <td>34</td>\n",
       "      <td>32</td>\n",
       "      <td>moist</td>\n",
       "    </tr>\n",
       "  </tbody>\n",
       "</table>\n",
       "</div>"
      ],
      "text/plain": [
       "   site  voles  veg   soil\n",
       "0     1     17    4  moist\n",
       "1     2     30   33  moist\n",
       "2     3     54   94  moist\n",
       "3     4     49   64  moist\n",
       "4     5     34   32  moist"
      ]
     },
     "execution_count": 5,
     "metadata": {},
     "output_type": "execute_result"
    }
   ],
   "source": [
    "df_voles.head()"
   ]
  },
  {
   "cell_type": "markdown",
   "id": "f2db9624-5099-4e06-8866-63d2bbc5625b",
   "metadata": {},
   "source": [
    "## EDA"
   ]
  },
  {
   "cell_type": "markdown",
   "id": "57f31990-7edd-439c-863b-ff3193e89d20",
   "metadata": {},
   "source": [
    "Let's make a few figures from `df_voles` using `ggplot` from **Plotnine**."
   ]
  },
  {
   "cell_type": "markdown",
   "id": "29c136cc-c5bc-418f-811b-690ca86de90b",
   "metadata": {},
   "source": [
    "In the cell below plot the `voles` variable (y-axis) versus the `veg` variable and color points by the `soil` variable."
   ]
  },
  {
   "cell_type": "code",
   "execution_count": null,
   "id": "aaca4f0d-de37-4ee9-8248-e57a1c962cd8",
   "metadata": {},
   "outputs": [],
   "source": []
  },
  {
   "cell_type": "markdown",
   "id": "53f6ed9a-5700-40a5-aa86-4cfccc2ad9a2",
   "metadata": {},
   "source": [
    "## Modeling"
   ]
  },
  {
   "cell_type": "markdown",
   "id": "87017459-117a-4638-8337-275c0cbe9ad5",
   "metadata": {},
   "source": [
    "In the cell below, model `voles` with `soil` and `veg` as predictors in a parallel slopes model. \n",
    "\n",
    "Here are the steps I would take:\n",
    "1. Make a column transformer with `make_column_transformer` that transforms `soil` with `OneHotEncoder(drop=\"first\")` and passes 'veg' through untransformed.\n",
    "2. Create a pipeline with `make_pipeline` using the column transformer from above and `LinearRegression()` as my model. \n",
    "3. Get the `X` (training data) and `y` predictor from `df_voles`\n",
    "4. Use the `.fit()` method for the pipeline to train the model with `X` and `y`. "
   ]
  },
  {
   "cell_type": "code",
   "execution_count": null,
   "id": "4e3be292-b264-4a01-9f77-f0f9274e32bd",
   "metadata": {},
   "outputs": [],
   "source": []
  },
  {
   "cell_type": "markdown",
   "id": "e962265e-ea51-420b-a4ac-2b1d6cdfb421",
   "metadata": {},
   "source": [
    "Use the function below to get the parameter values for your model from above."
   ]
  },
  {
   "cell_type": "code",
   "execution_count": 6,
   "id": "661261c1-c258-41d1-a998-eb223e41ad6d",
   "metadata": {},
   "outputs": [],
   "source": [
    "def get_regression_table(pipeline):\n",
    "    terms=list(pl['columntransformer'].get_feature_names_out()) + ['intercept']\n",
    "    mod = pl['linearregression']\n",
    "    estimates = list(mod.coef_) + [mod.intercept_]\n",
    "    data = dict(\n",
    "        term=terms, \n",
    "        estimate=estimates,\n",
    "    )\n",
    "    return pd.DataFrame(data)"
   ]
  },
  {
   "cell_type": "code",
   "execution_count": null,
   "id": "4f4f7c7e-4b6b-4e37-ab93-8e29f354596a",
   "metadata": {},
   "outputs": [],
   "source": []
  },
  {
   "cell_type": "markdown",
   "id": "51fedd24-d906-4cf3-97d7-abc1cc42b01d",
   "metadata": {},
   "source": [
    "❓Would protecting a site with high vegetation cover be a more effective way to preserve the vole population than a site with low vegetation cover? Why?\n",
    "\n",
    "(**Hint:** use your chart above to answer. It's also possible to leverage your regression parameters if you chose to model `voles` with a parallel slopes model.)\n",
    "\n",
    "**Answer:**"
   ]
  },
  {
   "cell_type": "code",
   "execution_count": null,
   "id": "1485eb7f-1a2b-412e-abc3-54ad36917124",
   "metadata": {},
   "outputs": [],
   "source": []
  },
  {
   "cell_type": "markdown",
   "id": "0c4c842e-126d-4734-9a04-10895770b55f",
   "metadata": {},
   "source": [
    "❓Dry sites typically cost a lot less to purchase and maintain for conservation organizations. Thus, if a conservation organization decides to purchase a few dry sites, roughly what percent cover of vegetation do they need to maintain on these sites (at a minimum) to support a population of about 30 voles at the site?\n",
    "\n",
    "(**Hint:** In your chart above, draw a line at voles = 30 using `geom_hline` and make a rough estimate for this answer...)\n",
    "\n",
    "**Answer:**"
   ]
  },
  {
   "cell_type": "code",
   "execution_count": null,
   "id": "c70010f1-ae44-42f4-be50-64110aa6d0da",
   "metadata": {},
   "outputs": [],
   "source": []
  },
  {
   "cell_type": "markdown",
   "id": "6166ce22-a811-4f8e-8daa-8cb09194c827",
   "metadata": {},
   "source": [
    "❓The Nature Conservancy is looking at purchasing a site for this species (in the same study area) that has moist soil and 40% vegetation cover. Using the regression equation what would you predict as the possible vole population the site might be able to support?\n",
    "\n",
    "(**Hint:** Use `.predict(pd.DataFrame({\"soil\": [\"moist\"], \"veg\": [40]}))` with yout pipeline.)\n",
    "\n",
    "**Answer:**"
   ]
  },
  {
   "cell_type": "code",
   "execution_count": null,
   "id": "1bfb253a-3eb1-4d80-a928-2605407c68f6",
   "metadata": {},
   "outputs": [],
   "source": []
  }
 ],
 "metadata": {
  "kernelspec": {
   "display_name": "data730:Python",
   "language": "python",
   "name": "conda-env-data730-py"
  },
  "language_info": {
   "codemirror_mode": {
    "name": "ipython",
    "version": 3
   },
   "file_extension": ".py",
   "mimetype": "text/x-python",
   "name": "python",
   "nbconvert_exporter": "python",
   "pygments_lexer": "ipython3",
   "version": "3.12.2"
  }
 },
 "nbformat": 4,
 "nbformat_minor": 5
}
